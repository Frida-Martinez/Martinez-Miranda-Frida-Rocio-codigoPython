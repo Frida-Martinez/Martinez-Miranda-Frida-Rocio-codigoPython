{
 "cells": [
  {
   "cell_type": "code",
   "execution_count": 3,
   "id": "028461c4",
   "metadata": {},
   "outputs": [
    {
     "name": "stdout",
     "output_type": "stream",
     "text": [
      "Agregar el valor de edad: 18\n",
      "Agregar el valor de egresos: 10000\n",
      "Agregar el valor de ingresos: 100000\n",
      "Agregar  el valor de monto pedido: 15874\n",
      "Agregar  el valor de numero de meses: 12\n",
      "Aprobado\n",
      "Valor de cuota: 1322.8333333333333\n",
      "\n"
     ]
    },
    {
     "data": {
      "text/plain": [
       "0"
      ]
     },
     "execution_count": 3,
     "metadata": {},
     "output_type": "execute_result"
    }
   ],
   "source": [
    "import os\n",
    "\n",
    "edad = float (input ('Agregar el valor de edad: '))\n",
    "egresos = float (input ('Agregar el valor de egresos: '))\n",
    "ingresos = float (input ('Agregar el valor de ingresos: '))\n",
    "monto_pedido = float (input ('Agregar  el valor de monto pedido: '))\n",
    "numero_de_meses = float (input ('Agregar  el valor de numero de meses: '))\n",
    "cuota=monto_pedido/numero_de_meses\n",
    "if edad>=18 and ingresos-egresos>cuota:\n",
    "    print ('Aprobado')\n",
    "else:\n",
    "    print ('Rechazado')\n",
    "print ('Valor de cuota: ' + repr (cuota))\n",
    "print ()\n",
    "os.system ('pause')"
   ]
  },
  {
   "cell_type": "code",
   "execution_count": null,
   "id": "363bfbf2",
   "metadata": {},
   "outputs": [],
   "source": []
  },
  {
   "cell_type": "code",
   "execution_count": null,
   "id": "8354e64a",
   "metadata": {},
   "outputs": [],
   "source": []
  }
 ],
 "metadata": {
  "kernelspec": {
   "display_name": "Python 3",
   "language": "python",
   "name": "python3"
  }
 },
 "nbformat": 4,
 "nbformat_minor": 5
}
