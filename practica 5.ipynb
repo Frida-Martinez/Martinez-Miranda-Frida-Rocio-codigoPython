{
 "cells": [
  {
   "cell_type": "code",
   "execution_count": 1,
   "id": "506c097b",
   "metadata": {},
   "outputs": [
    {
     "name": "stdout",
     "output_type": "stream",
     "text": [
      "Variable del coeficiente cuadrática\n",
      "2\n",
      "Variables del coeficiente lineal\n",
      "3\n",
      "Término independiente\n",
      "9\n",
      "Solucion de la ecuacion con números complejos\n"
     ]
    }
   ],
   "source": [
    "from math import sqrt\n",
    "A = int(input(\"Variable del coeficiente cuadrática\\n\"))\n",
    "B = int(input(\"Variables del coeficiente lineal\\n\"))\n",
    "C = int(input(\"Término independiente\\n\"))\n",
    "x1= 0\n",
    "x2= 0\n",
    "if ((B**2)-4*A*C) < 0:\n",
    "  print(\"Solucion de la ecuacion con números complejos\")\n",
    "else:\n",
    "  x1 = (-B+sqrt(B**2-(4*A*C)))/(2*A)\n",
    "  x2 = (-B-sqrt(B**2-(4*A*C)))/(2*A)\n",
    "  print(\"Las soluciones de la ecuación son:\")\n",
    "  print(x1)\n",
    "  print(x2)"
   ]
  },
  {
   "cell_type": "code",
   "execution_count": null,
   "id": "76d5f691",
   "metadata": {},
   "outputs": [],
   "source": []
  },
  {
   "cell_type": "code",
   "execution_count": null,
   "id": "9f071149",
   "metadata": {},
   "outputs": [],
   "source": []
  }
 ],
 "metadata": {
  "kernelspec": {
   "display_name": "Python 3",
   "language": "python",
   "name": "python3"
  },
  "language_info": {
   "codemirror_mode": {
    "name": "ipython",
    "version": 3
   },
   "file_extension": ".py",
   "mimetype": "text/x-python",
   "name": "python",
   "nbconvert_exporter": "python",
   "pygments_lexer": "ipython3",
   "version": "3.8.8"
  }
 },
 "nbformat": 4,
 "nbformat_minor": 5
}
