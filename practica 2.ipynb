{
 "cells": [
  {
   "cell_type": "code",
   "execution_count": null,
   "id": "9b767106",
   "metadata": {},
   "outputs": [],
   "source": [
    "nom = input(\"escribe tu nombre: \")\n",
    "tel = input(\"escribe tu telefono: \")\n",
    "email = input(\"escribe tu email: \")\n",
    "print(\"Hola bienvenido \" + nom)\n",
    "print(\"Tu telefono es \" + tel)\n",
    "print(\"Tu email es \" + email) "
   ]
  },
  {
   "cell_type": "code",
   "execution_count": null,
   "id": "2d48fa66",
   "metadata": {},
   "outputs": [],
   "source": []
  },
  {
   "cell_type": "code",
   "execution_count": null,
   "id": "13004414",
   "metadata": {},
   "outputs": [],
   "source": [
    "\n"
   ]
  }
 ],
 "metadata": {
  "kernelspec": {
   "display_name": "Python 3",
   "language": "python",
   "name": "python3"
  },
  "language_info": {
   "codemirror_mode": {
    "name": "ipython",
    "version": 3
   },
   "file_extension": ".py",
   "mimetype": "text/x-python",
   "name": "python",
   "nbconvert_exporter": "python",
   "pygments_lexer": "ipython3",
   "version": "3.8.8"
  }
 },
 "nbformat": 4,
 "nbformat_minor": 5
}
