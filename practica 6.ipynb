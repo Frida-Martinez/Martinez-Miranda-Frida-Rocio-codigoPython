{
 "cells": [
  {
   "cell_type": "code",
   "execution_count": 6,
   "id": "3bd066a3",
   "metadata": {},
   "outputs": [
    {
     "name": "stdout",
     "output_type": "stream",
     "text": [
      "Ingresa una variable: -5\n",
      "Negativo\n"
     ]
    }
   ],
   "source": [
    "variable_como_cadena = input(\"Ingresa una variable: \")\n",
    "numero = float(variable_como_cadena)\n",
    "if numero == 0:\n",
    "    print(\"Neutro\")\n",
    "elif numero < 0:\n",
    "    print(\"Negativo\")\n",
    "else:\n",
    "    print(\"Positivo\")"
   ]
  },
  {
   "cell_type": "code",
   "execution_count": null,
   "id": "1b8f770e",
   "metadata": {},
   "outputs": [],
   "source": []
  },
  {
   "cell_type": "code",
   "execution_count": null,
   "id": "33a49201",
   "metadata": {},
   "outputs": [],
   "source": []
  }
 ],
 "metadata": {
  "kernelspec": {
   "display_name": "Python 3",
   "language": "python",
   "name": "python3"
  },
  "language_info": {
   "codemirror_mode": {
    "name": "ipython",
    "version": 3
   },
   "file_extension": ".py",
   "mimetype": "text/x-python",
   "name": "python",
   "nbconvert_exporter": "python",
   "pygments_lexer": "ipython3",
   "version": "3.8.8"
  }
 },
 "nbformat": 4,
 "nbformat_minor": 5
}
